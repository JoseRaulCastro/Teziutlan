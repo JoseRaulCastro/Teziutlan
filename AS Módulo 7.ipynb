{
 "cells": [
  {
   "cell_type": "code",
   "execution_count": 1,
   "id": "69060b8f",
   "metadata": {},
   "outputs": [],
   "source": [
    "import pandas as pd\n",
    "from sklearn.model_selection import train_test_split\n",
    "from sklearn.linear_model import LogisticRegression\n",
    "from sklearn.metrics import classification_report\n",
    "from sklearn import metrics\n",
    "import matplotlib.pyplot as plt\n",
    "import warnings\n",
    "warnings.filterwarnings(\"ignore\")\n",
    "\n",
    "import os\n",
    "os.chdir(\"/Users/Raul/Desktop\")"
   ]
  },
  {
   "cell_type": "code",
   "execution_count": 2,
   "id": "0dcc939d",
   "metadata": {},
   "outputs": [
    {
     "data": {
      "text/html": [
       "<div>\n",
       "<style scoped>\n",
       "    .dataframe tbody tr th:only-of-type {\n",
       "        vertical-align: middle;\n",
       "    }\n",
       "\n",
       "    .dataframe tbody tr th {\n",
       "        vertical-align: top;\n",
       "    }\n",
       "\n",
       "    .dataframe thead th {\n",
       "        text-align: right;\n",
       "    }\n",
       "</style>\n",
       "<table border=\"1\" class=\"dataframe\">\n",
       "  <thead>\n",
       "    <tr style=\"text-align: right;\">\n",
       "      <th></th>\n",
       "      <th>pregnant</th>\n",
       "      <th>glucose</th>\n",
       "      <th>bp</th>\n",
       "      <th>skin</th>\n",
       "      <th>insulin</th>\n",
       "      <th>bmi</th>\n",
       "      <th>pedigree</th>\n",
       "      <th>age</th>\n",
       "      <th>label</th>\n",
       "    </tr>\n",
       "  </thead>\n",
       "  <tbody>\n",
       "    <tr>\n",
       "      <th>1</th>\n",
       "      <td>6</td>\n",
       "      <td>148</td>\n",
       "      <td>72</td>\n",
       "      <td>35</td>\n",
       "      <td>0</td>\n",
       "      <td>33.6</td>\n",
       "      <td>0.627</td>\n",
       "      <td>50</td>\n",
       "      <td>1</td>\n",
       "    </tr>\n",
       "    <tr>\n",
       "      <th>2</th>\n",
       "      <td>1</td>\n",
       "      <td>85</td>\n",
       "      <td>66</td>\n",
       "      <td>29</td>\n",
       "      <td>0</td>\n",
       "      <td>26.6</td>\n",
       "      <td>0.351</td>\n",
       "      <td>31</td>\n",
       "      <td>0</td>\n",
       "    </tr>\n",
       "    <tr>\n",
       "      <th>3</th>\n",
       "      <td>8</td>\n",
       "      <td>183</td>\n",
       "      <td>64</td>\n",
       "      <td>0</td>\n",
       "      <td>0</td>\n",
       "      <td>23.3</td>\n",
       "      <td>0.672</td>\n",
       "      <td>32</td>\n",
       "      <td>1</td>\n",
       "    </tr>\n",
       "    <tr>\n",
       "      <th>4</th>\n",
       "      <td>1</td>\n",
       "      <td>89</td>\n",
       "      <td>66</td>\n",
       "      <td>23</td>\n",
       "      <td>94</td>\n",
       "      <td>28.1</td>\n",
       "      <td>0.167</td>\n",
       "      <td>21</td>\n",
       "      <td>0</td>\n",
       "    </tr>\n",
       "    <tr>\n",
       "      <th>5</th>\n",
       "      <td>0</td>\n",
       "      <td>137</td>\n",
       "      <td>40</td>\n",
       "      <td>35</td>\n",
       "      <td>168</td>\n",
       "      <td>43.1</td>\n",
       "      <td>2.288</td>\n",
       "      <td>33</td>\n",
       "      <td>1</td>\n",
       "    </tr>\n",
       "    <tr>\n",
       "      <th>...</th>\n",
       "      <td>...</td>\n",
       "      <td>...</td>\n",
       "      <td>...</td>\n",
       "      <td>...</td>\n",
       "      <td>...</td>\n",
       "      <td>...</td>\n",
       "      <td>...</td>\n",
       "      <td>...</td>\n",
       "      <td>...</td>\n",
       "    </tr>\n",
       "    <tr>\n",
       "      <th>764</th>\n",
       "      <td>10</td>\n",
       "      <td>101</td>\n",
       "      <td>76</td>\n",
       "      <td>48</td>\n",
       "      <td>180</td>\n",
       "      <td>32.9</td>\n",
       "      <td>0.171</td>\n",
       "      <td>63</td>\n",
       "      <td>0</td>\n",
       "    </tr>\n",
       "    <tr>\n",
       "      <th>765</th>\n",
       "      <td>2</td>\n",
       "      <td>122</td>\n",
       "      <td>70</td>\n",
       "      <td>27</td>\n",
       "      <td>0</td>\n",
       "      <td>36.8</td>\n",
       "      <td>0.34</td>\n",
       "      <td>27</td>\n",
       "      <td>0</td>\n",
       "    </tr>\n",
       "    <tr>\n",
       "      <th>766</th>\n",
       "      <td>5</td>\n",
       "      <td>121</td>\n",
       "      <td>72</td>\n",
       "      <td>23</td>\n",
       "      <td>112</td>\n",
       "      <td>26.2</td>\n",
       "      <td>0.245</td>\n",
       "      <td>30</td>\n",
       "      <td>0</td>\n",
       "    </tr>\n",
       "    <tr>\n",
       "      <th>767</th>\n",
       "      <td>1</td>\n",
       "      <td>126</td>\n",
       "      <td>60</td>\n",
       "      <td>0</td>\n",
       "      <td>0</td>\n",
       "      <td>30.1</td>\n",
       "      <td>0.349</td>\n",
       "      <td>47</td>\n",
       "      <td>1</td>\n",
       "    </tr>\n",
       "    <tr>\n",
       "      <th>768</th>\n",
       "      <td>1</td>\n",
       "      <td>93</td>\n",
       "      <td>70</td>\n",
       "      <td>31</td>\n",
       "      <td>0</td>\n",
       "      <td>30.4</td>\n",
       "      <td>0.315</td>\n",
       "      <td>23</td>\n",
       "      <td>0</td>\n",
       "    </tr>\n",
       "  </tbody>\n",
       "</table>\n",
       "<p>768 rows × 9 columns</p>\n",
       "</div>"
      ],
      "text/plain": [
       "    pregnant glucose  bp skin insulin   bmi pedigree age label\n",
       "1          6     148  72   35       0  33.6    0.627  50     1\n",
       "2          1      85  66   29       0  26.6    0.351  31     0\n",
       "3          8     183  64    0       0  23.3    0.672  32     1\n",
       "4          1      89  66   23      94  28.1    0.167  21     0\n",
       "5          0     137  40   35     168  43.1    2.288  33     1\n",
       "..       ...     ...  ..  ...     ...   ...      ...  ..   ...\n",
       "764       10     101  76   48     180  32.9    0.171  63     0\n",
       "765        2     122  70   27       0  36.8     0.34  27     0\n",
       "766        5     121  72   23     112  26.2    0.245  30     0\n",
       "767        1     126  60    0       0  30.1    0.349  47     1\n",
       "768        1      93  70   31       0  30.4    0.315  23     0\n",
       "\n",
       "[768 rows x 9 columns]"
      ]
     },
     "execution_count": 2,
     "metadata": {},
     "output_type": "execute_result"
    }
   ],
   "source": [
    "col_names = [\"pregnant\", \"glucose\", \"bp\", \"skin\", \"insulin\", \"bmi\", \"pedigree\", \"age\", \"label\"]\n",
    "pima = pd.read_csv(\"diabetes.csv\", header=None, names = col_names)\n",
    "df = pima.iloc[1:,:]\n",
    "df"
   ]
  },
  {
   "cell_type": "code",
   "execution_count": 3,
   "id": "43dee088",
   "metadata": {},
   "outputs": [],
   "source": [
    "# Selección de características\n",
    "feature_cols = ['pregnant', 'insulin', 'bmi', 'age', 'glucose', 'bp', 'pedigree']\n",
    "X = df[feature_cols]\n",
    "y = df.label "
   ]
  },
  {
   "cell_type": "code",
   "execution_count": 4,
   "id": "5217362d",
   "metadata": {},
   "outputs": [
    {
     "data": {
      "text/plain": [
       "1      1\n",
       "2      0\n",
       "3      1\n",
       "4      0\n",
       "5      1\n",
       "      ..\n",
       "764    0\n",
       "765    0\n",
       "766    0\n",
       "767    1\n",
       "768    0\n",
       "Name: label, Length: 768, dtype: object"
      ]
     },
     "execution_count": 4,
     "metadata": {},
     "output_type": "execute_result"
    }
   ],
   "source": [
    "y"
   ]
  },
  {
   "cell_type": "code",
   "execution_count": 111,
   "id": "12a2bacb",
   "metadata": {},
   "outputs": [],
   "source": [
    "# Create training and testing samples\n",
    "X_train, X_test, y_train, y_test = train_test_split(X, y, test_size=0.2, random_state=1)"
   ]
  },
  {
   "cell_type": "markdown",
   "id": "e6e8139c",
   "metadata": {},
   "source": [
    "# Solvers disponibles: ‘sag’, ‘newton-cg’, ‘liblinear’, 'saga', ‘lbfgs’. default=’lbfgs’\n",
    "\n",
    "###  Mayor referencia en: https://stackoverflow.com/questions/38640109/logistic-regression-python-solvers-definitions"
   ]
  },
  {
   "cell_type": "code",
   "execution_count": 122,
   "id": "4c13cee9",
   "metadata": {},
   "outputs": [],
   "source": [
    "# sag: Stochastic Average Gradient\n",
    "# newton-cg: Método de Newton \n",
    "# liblinear: Library for large linear classification (Algoritmo Coordinate Descent)\n",
    "# saga: Variante del método sag\n",
    "# lbfgs:  Limited-memory Broyden–Fletcher–Goldfarb–Shanno Algorithm, "
   ]
  },
  {
   "cell_type": "code",
   "execution_count": 121,
   "id": "343a1915",
   "metadata": {},
   "outputs": [],
   "source": [
    "# SOLUCIONADOR: sag\n",
    "model = LogisticRegression(solver='sag')\n",
    "clf = model.fit(X_train, y_train)"
   ]
  },
  {
   "cell_type": "code",
   "execution_count": 32,
   "id": "e290478c",
   "metadata": {},
   "outputs": [
    {
     "name": "stdout",
     "output_type": "stream",
     "text": [
      "Intercept (Beta 0):  [-0.01187147]\n",
      "Slope (Beta 1):  [[ 0.05204285  0.00116492 -0.00939227 -0.00231369  0.01407853 -0.03084231\n",
      "   0.00112095]]\n"
     ]
    }
   ],
   "source": [
    "# Predict class labels on a test data\n",
    "y_pred = model.predict(X_test)\n",
    "\n",
    "# Print slope and intercept\n",
    "print('Intercept (Beta 0): ', clf.intercept_)\n",
    "print('Slope (Beta 1): ', clf.coef_)"
   ]
  },
  {
   "cell_type": "code",
   "execution_count": 33,
   "id": "071da1f6",
   "metadata": {},
   "outputs": [
    {
     "name": "stdout",
     "output_type": "stream",
     "text": [
      "Accuracy Score:  0.6428571428571429\n",
      "--------------------------------------------------------\n",
      "              precision    recall  f1-score   support\n",
      "\n",
      "           0       0.67      0.89      0.76        99\n",
      "           1       0.50      0.20      0.29        55\n",
      "\n",
      "    accuracy                           0.64       154\n",
      "   macro avg       0.58      0.54      0.52       154\n",
      "weighted avg       0.61      0.64      0.59       154\n",
      "\n"
     ]
    }
   ],
   "source": [
    "# Use score method to get accuracy of model\n",
    "score = model.score(X_test, y_test)\n",
    "print('Accuracy Score: ', score)\n",
    "print('--------------------------------------------------------')\n",
    "# Look at classification report to evaluate the model\n",
    "print(classification_report(y_test, y_pred))"
   ]
  },
  {
   "cell_type": "code",
   "execution_count": 34,
   "id": "60101b6d",
   "metadata": {},
   "outputs": [
    {
     "name": "stdout",
     "output_type": "stream",
     "text": [
      "Intercept (Beta 0):  [-8.10390156]\n",
      "Slope (Beta 1):  [[ 0.12718791 -0.00096255  0.08559354  0.01168397  0.03656972 -0.01508705\n",
      "   0.63366334]]\n",
      "Accuracy Score:  0.7727272727272727\n",
      "--------------------------------------------------------\n",
      "              precision    recall  f1-score   support\n",
      "\n",
      "           0       0.78      0.90      0.84        99\n",
      "           1       0.75      0.55      0.63        55\n",
      "\n",
      "    accuracy                           0.77       154\n",
      "   macro avg       0.77      0.72      0.73       154\n",
      "weighted avg       0.77      0.77      0.76       154\n",
      "\n"
     ]
    }
   ],
   "source": [
    "# SOLUCIONADOR: newton-cg\n",
    "model = LogisticRegression(solver='newton-cg')\n",
    "clf = model.fit(X_train, y_train)\n",
    "\n",
    "# Predict class labels on a test data\n",
    "y_pred = model.predict(X_test)\n",
    "\n",
    "# Print slope and intercept\n",
    "print('Intercept (Beta 0): ', clf.intercept_)\n",
    "print('Slope (Beta 1): ', clf.coef_)\n",
    "\n",
    "# Use score method to get accuracy of model\n",
    "score = model.score(X_test, y_test)\n",
    "print('Accuracy Score: ', score)\n",
    "print('--------------------------------------------------------')\n",
    "# Look at classification report to evaluate the model\n",
    "print(classification_report(y_test, y_pred))"
   ]
  },
  {
   "cell_type": "code",
   "execution_count": 35,
   "id": "43f702f2",
   "metadata": {},
   "outputs": [
    {
     "name": "stdout",
     "output_type": "stream",
     "text": [
      "Intercept (Beta 0):  [-5.3789679]\n",
      "Slope (Beta 1):  [[ 1.18839257e-01 -3.16887240e-04  5.28139709e-02  3.80223853e-03\n",
      "   2.87897610e-02 -1.91009580e-02  4.74700127e-01]]\n",
      "Accuracy Score:  0.7662337662337663\n",
      "--------------------------------------------------------\n",
      "              precision    recall  f1-score   support\n",
      "\n",
      "           0       0.77      0.90      0.83        99\n",
      "           1       0.74      0.53      0.62        55\n",
      "\n",
      "    accuracy                           0.77       154\n",
      "   macro avg       0.76      0.71      0.72       154\n",
      "weighted avg       0.76      0.77      0.76       154\n",
      "\n"
     ]
    }
   ],
   "source": [
    "# SOLUCIONADOR: liblinear\n",
    "model = LogisticRegression(solver='liblinear')\n",
    "clf = model.fit(X_train, y_train)\n",
    "\n",
    "# Predict class labels on a test data\n",
    "y_pred = model.predict(X_test)\n",
    "\n",
    "# Print slope and intercept\n",
    "print('Intercept (Beta 0): ', clf.intercept_)\n",
    "print('Slope (Beta 1): ', clf.coef_)\n",
    "\n",
    "# Use score method to get accuracy of model\n",
    "score = model.score(X_test, y_test)\n",
    "print('Accuracy Score: ', score)\n",
    "print('--------------------------------------------------------')\n",
    "# Look at classification report to evaluate the model\n",
    "print(classification_report(y_test, y_pred))"
   ]
  },
  {
   "cell_type": "code",
   "execution_count": 36,
   "id": "ba09fc92",
   "metadata": {},
   "outputs": [
    {
     "name": "stdout",
     "output_type": "stream",
     "text": [
      "Intercept (Beta 0):  [-0.00610761]\n",
      "Slope (Beta 1):  [[ 0.02990897  0.00115487 -0.00947685  0.00099771  0.01388419 -0.03083846\n",
      "   0.00047626]]\n",
      "Accuracy Score:  0.6493506493506493\n",
      "--------------------------------------------------------\n",
      "              precision    recall  f1-score   support\n",
      "\n",
      "           0       0.67      0.89      0.77        99\n",
      "           1       0.52      0.22      0.31        55\n",
      "\n",
      "    accuracy                           0.65       154\n",
      "   macro avg       0.60      0.55      0.54       154\n",
      "weighted avg       0.62      0.65      0.60       154\n",
      "\n"
     ]
    }
   ],
   "source": [
    "# Solvers disponibles: {‘newton-cg’, ‘lbfgs’, ‘liblinear’, ‘sag’, ‘saga’}, default=’lbfgs’\n",
    "# SOLUCIONADOR: saga\n",
    "model = LogisticRegression(solver='saga')\n",
    "clf = model.fit(X_train, y_train)\n",
    "\n",
    "# Predict class labels on a test data\n",
    "y_pred = model.predict(X_test)\n",
    "\n",
    "# Print slope and intercept\n",
    "print('Intercept (Beta 0): ', clf.intercept_)\n",
    "print('Slope (Beta 1): ', clf.coef_)\n",
    "\n",
    "# Use score method to get accuracy of model\n",
    "score = model.score(X_test, y_test)\n",
    "print('Accuracy Score: ', score)\n",
    "print('--------------------------------------------------------')\n",
    "# Look at classification report to evaluate the model\n",
    "print(classification_report(y_test, y_pred))"
   ]
  },
  {
   "cell_type": "code",
   "execution_count": 112,
   "id": "5d32529a",
   "metadata": {},
   "outputs": [
    {
     "name": "stdout",
     "output_type": "stream",
     "text": [
      "Intercept (Beta 0):  [-8.09707746]\n",
      "Slope (Beta 1):  [[ 0.12707249 -0.00096077  0.08549919  0.0116877   0.03655047 -0.01509716\n",
      "   0.63316016]]\n",
      "Accuracy Score:  0.7727272727272727\n",
      "--------------------------------------------------------\n",
      "              precision    recall  f1-score   support\n",
      "\n",
      "           0       0.78      0.90      0.84        99\n",
      "           1       0.75      0.55      0.63        55\n",
      "\n",
      "    accuracy                           0.77       154\n",
      "   macro avg       0.77      0.72      0.73       154\n",
      "weighted avg       0.77      0.77      0.76       154\n",
      "\n"
     ]
    }
   ],
   "source": [
    "# SOLUCIONADOR: lbfgs\n",
    "model = LogisticRegression(solver='lbfgs')\n",
    "clf = model.fit(X_train, y_train)\n",
    "\n",
    "# Predict class labels on a test data\n",
    "y_pred = model.predict(X_test)\n",
    "\n",
    "# Print slope and intercept\n",
    "print('Intercept (Beta 0): ', clf.intercept_)\n",
    "print('Slope (Beta 1): ', clf.coef_)\n",
    "\n",
    "# Use score method to get accuracy of model\n",
    "score = model.score(X_test, y_test)\n",
    "print('Accuracy Score: ', score)\n",
    "print('--------------------------------------------------------')\n",
    "# Look at classification report to evaluate the model\n",
    "print(classification_report(y_test, y_pred))"
   ]
  },
  {
   "cell_type": "code",
   "execution_count": 113,
   "id": "de6482b9",
   "metadata": {},
   "outputs": [
    {
     "data": {
      "text/plain": [
       "array([0.4366193 , 0.31979373, 0.15802561, 0.04345572, 0.1997421 ])"
      ]
     },
     "execution_count": 113,
     "metadata": {},
     "output_type": "execute_result"
    }
   ],
   "source": [
    "# Predicción de probabilidades para casos particulares\n",
    "y_pred_probs = clf.predict_proba(X_test)[:,1]\n",
    "y_pred_probs[0:5]"
   ]
  },
  {
   "cell_type": "code",
   "execution_count": 114,
   "id": "5c71d7b6",
   "metadata": {},
   "outputs": [
    {
     "data": {
      "text/plain": [
       "286    0\n",
       "102    0\n",
       "582    0\n",
       "353    0\n",
       "727    0\n",
       "Name: label, dtype: object"
      ]
     },
     "execution_count": 114,
     "metadata": {},
     "output_type": "execute_result"
    }
   ],
   "source": [
    "y_test[0:5]"
   ]
  },
  {
   "cell_type": "code",
   "execution_count": 115,
   "id": "9abd0f53",
   "metadata": {},
   "outputs": [
    {
     "data": {
      "text/plain": [
       "array(['0', '0', '0', '0', '0'], dtype=object)"
      ]
     },
     "execution_count": 115,
     "metadata": {},
     "output_type": "execute_result"
    }
   ],
   "source": [
    "y_test = y_test.to_numpy()\n",
    "y_test[0:5]"
   ]
  },
  {
   "cell_type": "code",
   "execution_count": 116,
   "id": "ab1234aa",
   "metadata": {},
   "outputs": [
    {
     "data": {
      "text/plain": [
       "[0, 0, 0, 0, 0]"
      ]
     },
     "execution_count": 116,
     "metadata": {},
     "output_type": "execute_result"
    }
   ],
   "source": [
    "y_test = [int(numeric_string) for numeric_string in y_test]\n",
    "y_test[0:5]"
   ]
  },
  {
   "cell_type": "code",
   "execution_count": 117,
   "id": "8acd3706",
   "metadata": {},
   "outputs": [
    {
     "data": {
      "text/plain": [
       "array([0., 0., 0., 0., 0.])"
      ]
     },
     "execution_count": 117,
     "metadata": {},
     "output_type": "execute_result"
    }
   ],
   "source": [
    "y_pred_probs = np.round(y_pred_probs, 0)\n",
    "y_pred_probs[0:5]"
   ]
  },
  {
   "cell_type": "code",
   "execution_count": 118,
   "id": "228ecf37",
   "metadata": {},
   "outputs": [
    {
     "data": {
      "text/plain": [
       "Text(0.5, 1.0, 'Curva ROC para Regresión logística')"
      ]
     },
     "execution_count": 118,
     "metadata": {},
     "output_type": "execute_result"
    },
    {
     "data": {
      "image/png": "[encoded data removed]",
      "text/plain": [
       "<Figure size 432x288 with 1 Axes>"
      ]
     },
     "metadata": {
      "needs_background": "light"
     },
     "output_type": "display_data"
    }
   ],
   "source": [
    "# Graficación de la curva ROC\n",
    "from sklearn.metrics import roc_curve\n",
    "from sklearn.metrics import roc_auc_score\n",
    "# fpr = false positive rate\n",
    "# tpr = true positive rate\n",
    "# thresholds = límites para valores de p\n",
    "fpr, tpr, thresholds = roc_curve(y_test, y_pred_probs)\n",
    "auc = roc_auc_score(y_test, y_pred_probs)\n",
    "\n",
    "plt.plot([0,1], [0,1], 'k--')\n",
    "plt.plot(fpr, tpr, marker='.', label= 'ROC curve (area = %0.2f)' % auc)\n",
    "plt.xlabel('False Positive Rate')\n",
    "plt.ylabel('True Positive Rate')\n",
    "plt.legend(loc='lower right')\n",
    "plt.title(\"Curva ROC para Regresión logística\")"
   ]
  }
 ],
 "metadata": {
  "kernelspec": {
   "display_name": "Python 3 (ipykernel)",
   "language": "python",
   "name": "python3"
  },
  "language_info": {
   "codemirror_mode": {
    "name": "ipython",
    "version": 3
   },
   "file_extension": ".py",
   "mimetype": "text/x-python",
   "name": "python",
   "nbconvert_exporter": "python",
   "pygments_lexer": "ipython3",
   "version": "3.9.7"
  }
 },
 "nbformat": 4,
 "nbformat_minor": 5
}
